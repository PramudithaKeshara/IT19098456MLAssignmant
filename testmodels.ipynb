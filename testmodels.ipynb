{
 "cells": [
  {
   "cell_type": "markdown",
   "source": [
    "Import libraries"
   ],
   "metadata": {
    "collapsed": false,
    "pycharm": {
     "name": "#%% md\n"
    }
   }
  },
  {
   "cell_type": "code",
   "execution_count": 11,
   "metadata": {
    "collapsed": true,
    "pycharm": {
     "name": "#%%\n"
    }
   },
   "outputs": [],
   "source": [
    "import tensorflow\n",
    "import numpy as np\n",
    "import cv2\n",
    "from tkinter import *\n",
    "from tkinter import filedialog"
   ]
  },
  {
   "cell_type": "markdown",
   "source": [
    "Load Trained model"
   ],
   "metadata": {
    "collapsed": false,
    "pycharm": {
     "name": "#%% md\n"
    }
   }
  },
  {
   "cell_type": "code",
   "execution_count": 12,
   "outputs": [],
   "source": [
    "loaded_model = tensorflow.keras.models.load_model('face_model')"
   ],
   "metadata": {
    "collapsed": false,
    "pycharm": {
     "name": "#%%\n"
    }
   }
  },
  {
   "cell_type": "markdown",
   "source": [
    "Model prediction implementation"
   ],
   "metadata": {
    "collapsed": false,
    "pycharm": {
     "name": "#%% md\n"
    }
   }
  },
  {
   "cell_type": "code",
   "execution_count": 13,
   "outputs": [],
   "source": [
    "cv2.ocl.setUseOpenCL(False)\n",
    "\n",
    "emotion_dict = {0: \"Angry\", 1:\"Disgusted\", 2:\"Fearful\", 3:\"Happy\", 4: \"Neutral\", 5:\"Sad\", 6:\"Surprised\"} #array of emotion types\n",
    "#Video to prediction implementation\n",
    "def Video(file_path):\n",
    "    cap = cv2.VideoCapture(file_path) #apply path to video capture\n",
    "    if (cap.isOpened() == False): #check video found state\n",
    "        print(\"video file not found\")\n",
    "        exit()\n",
    "\n",
    "    while (cap.isOpened()):\n",
    "        ret, frame = cap.read() #read video frames\n",
    "        if not ret:\n",
    "            break\n",
    "        bounding_box = cv2.CascadeClassifier('haarcascade_frontalface_default.xml') #boundry box implement by Cascade Classifier\n",
    "        gray_frame = cv2.cvtColor(frame,cv2.COLOR_BGR2GRAY)# frame turn into grayscale\n",
    "        num_faces = bounding_box.detectMultiScale(gray_frame, scaleFactor=1.3, minNeighbors= 5) # detect MultiScale\n",
    "        for(x,y,w,h) in num_faces:\n",
    "            cv2.rectangle(frame, (x,y-50), (x+w, y+h+10), (255,0,0),2) #apply rectangle to detection area.\n",
    "            roi_gray_frame = gray_frame[y:y+h, x:x + w]\n",
    "            cropped_img = np.expand_dims(np.expand_dims(cv2.resize(roi_gray_frame,(48,48)), -1),0) # crop the image  size\n",
    "            emotion_prediction = loaded_model.predict(cropped_img) #apply prediction result to crop image\n",
    "            maxindex = int(np.argmax(emotion_prediction))#covert predication into integers\n",
    "            cv2.putText(frame,emotion_dict[maxindex], (x+20, y-60), cv2.FONT_HERSHEY_SIMPLEX, 1,(255,0,255),2,cv2.LINE_AA) #put text in to top of the rectangle\n",
    "        cv2.imshow('Video  - Press q to close',cv2.resize(frame,(480,280), interpolation= cv2.INTER_CUBIC))#display the result\n",
    "        if cv2.waitKey(1) & 0xFF == ord('q'): #apply exit function\n",
    "                cap.release()\n",
    "                cv2.destroyAllWindows()\n",
    "                break\n"
   ],
   "metadata": {
    "collapsed": false,
    "pycharm": {
     "name": "#%%\n"
    }
   }
  },
  {
   "cell_type": "code",
   "execution_count": 15,
   "outputs": [],
   "source": [
    "def browseFiles(): #path selection by  gui in windows explore\n",
    "    filename = filedialog.askopenfilename(initialdir = \"/\",\n",
    "                                          title = \"Select a File\",\n",
    "                                          filetypes = ((\"Video File\",\n",
    "                                                        \"*.mp4*\"),\n",
    "                                                       (\"all files\",\n",
    "                                                        \"*.*\")))\n",
    "    Video(filename) #run video prediction system\n",
    "    #create GUI  window\n",
    "if __name__ == '__main__':\n",
    "    window = Tk()\n",
    "    window.title(\"File Explorer\")\n",
    "    window.geometry(\"500x500\")\n",
    "    window.config(background=\"white\")\n",
    "    label_file_explorer = Label(window,\n",
    "                            text = \"File Explorer using Tkinter\",\n",
    "                            width = 100, height = 4,\n",
    "                            fg = \"blue\")\n",
    "    button_explore = Button(window,\n",
    "                        text = \"Browse Files\",\n",
    "                        command = browseFiles)\n",
    "    label_file_explorer.grid(column = 1, row = 1)\n",
    "    button_explore.grid(column = 1, row = 2)\n",
    "    window.mainloop()"
   ],
   "metadata": {
    "collapsed": false,
    "pycharm": {
     "name": "#%%\n"
    }
   }
  },
  {
   "cell_type": "code",
   "execution_count": 14,
   "outputs": [],
   "source": [],
   "metadata": {
    "collapsed": false,
    "pycharm": {
     "name": "#%%\n"
    }
   }
  }
 ],
 "metadata": {
  "kernelspec": {
   "display_name": "Python 3",
   "language": "python",
   "name": "python3"
  },
  "language_info": {
   "codemirror_mode": {
    "name": "ipython",
    "version": 2
   },
   "file_extension": ".py",
   "mimetype": "text/x-python",
   "name": "python",
   "nbconvert_exporter": "python",
   "pygments_lexer": "ipython2",
   "version": "2.7.6"
  }
 },
 "nbformat": 4,
 "nbformat_minor": 0
}